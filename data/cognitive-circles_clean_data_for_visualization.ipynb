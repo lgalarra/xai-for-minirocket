{
 "cells": [
  {
   "cell_type": "code",
   "id": "9ac2a3d1-5c23-46cd-8648-c026f1033334",
   "metadata": {
    "ExecuteTime": {
     "end_time": "2025-08-26T14:38:08.674573Z",
     "start_time": "2025-08-26T14:38:08.462397Z"
    }
   },
   "source": [
    "import pandas as pd\n",
    "import sys\n",
    "sys.path.append(\"../code\")\n",
    "\n",
    "from utils import medoid_per_class, medoid\n",
    "\n",
    "# Read the two parquet files\n",
    "df1 = pd.read_hdf(\"cognitive-circles/df40participants.h5\")\n",
    "OUTPUT_FOLDER = 'cognitive-circles'"
   ],
   "outputs": [],
   "execution_count": 13
  },
  {
   "cell_type": "code",
   "id": "9ebfbcde-d1a5-46bf-aaaf-e8c8b3fb891b",
   "metadata": {
    "ExecuteTime": {
     "end_time": "2025-08-26T14:38:08.908691Z",
     "start_time": "2025-08-26T14:38:08.826380Z"
    }
   },
   "source": [
    "import numpy as np\n",
    "y = df1['RealDifficulty']\n",
    "task = df1['Task']\n",
    "\n",
    "df_only_num = df1.drop(df1.select_dtypes(exclude=[np.float64]), axis=1)\n",
    "df_only_num = df_only_num.drop(columns=[\"ParticipantWantedToRerateTaskPerceivedDifficultyLevel\"])\n",
    "\n",
    "df_num = df_only_num.copy()\n",
    "df_num['RealDifficulty'] = y\n",
    "df_num['Task'] = task\n"
   ],
   "outputs": [],
   "execution_count": 14
  },
  {
   "metadata": {
    "ExecuteTime": {
     "end_time": "2025-08-26T14:38:13.063257Z",
     "start_time": "2025-08-26T14:38:09.291766Z"
    }
   },
   "cell_type": "code",
   "source": [
    "%load_ext autoreload\n",
    "%autoreload 2\n",
    "\n",
    "from utils import export\n",
    "import numpy as np\n",
    "\n",
    "cols_items = [('X', 'X'), ('V', 'velocity'), ('VA', 'angular_velocity'),\n",
    "                           ('DR', 'radial_velocity'), ('Y', 'Y'), ('D', 'radius'),  ('A', 'acceleration')]\n",
    "cols_dict = dict(cols_items)\n",
    "medoid_ids_per_class = medoid_per_class(df_only_num, y)"
   ],
   "id": "608bef0ec10263f8",
   "outputs": [
    {
     "name": "stdout",
     "output_type": "stream",
     "text": [
      "The autoreload extension is already loaded. To reload it, use:\n",
      "  %reload_ext autoreload\n"
     ]
    }
   ],
   "execution_count": 15
  },
  {
   "metadata": {
    "jupyter": {
     "is_executing": true
    },
    "ExecuteTime": {
     "start_time": "2025-08-26T14:38:13.119467Z"
    }
   },
   "cell_type": "code",
   "source": [
    "\n",
    "for (VAR, VARNAME) in cols_items:\n",
    "    for idx, row in df_only_num.iterrows():\n",
    "        export(row, cols_items, f'{idx:03d}_{df_num.iloc[idx][\"RealDifficulty\"]}', OUTPUT_FOLDER)\n",
    "    # Suppose df1 has features + \"Class\"\n",
    "    for cls, group in df_num.groupby(\"RealDifficulty\"):\n",
    "        export(df_only_num.loc[medoid_ids_per_class[cls]], cols_items, f'{cls}_medoid', OUTPUT_FOLDER)\n",
    "        X = group.drop(columns=[\"RealDifficulty\", \"Task\"])\n",
    "        export(np.mean(X, axis=0), cols_items, f'{cls}_centroid', OUTPUT_FOLDER)\n",
    "        for task, subgroup in group.groupby('Task'):\n",
    "            X_subgroup = group.drop(columns=[\"RealDifficulty\", \"Task\"])\n",
    "            inst_id = medoid(X_subgroup)\n",
    "            export(X_subgroup.loc[inst_id], cols_items, f'{cls}_{task}_{inst_id}_medoid', OUTPUT_FOLDER)\n",
    "            centroid_task = np.mean(X_subgroup, axis=0)\n",
    "            export(centroid_task, cols_items, f'{cls}_{task}_{inst_id}_centroid', OUTPUT_FOLDER)\n",
    "\n",
    "    global_centroid_VX = np.mean(df_only_num, axis=0)\n",
    "    export(global_centroid_VX, cols_items, 'global_centroid', OUTPUT_FOLDER)\n",
    "\n",
    "global_medoid_id = medoid(df_only_num)\n",
    "export(df_only_num.iloc[global_medoid_id], cols_items, 'global_medoid', OUTPUT_FOLDER)\n",
    "\n"
   ],
   "id": "797f76fa81810ee8",
   "outputs": [],
   "execution_count": null
  },
  {
   "metadata": {
    "ExecuteTime": {
     "end_time": "2025-08-26T15:33:46.298608162Z",
     "start_time": "2025-08-26T14:29:05.196961Z"
    }
   },
   "cell_type": "code",
   "source": [
    "metadata_dict = {}\n",
    "global_medoid_id = medoid(df_only_num)\n",
    "\n",
    "for (VAR, VARNAME) in cols_items:\n",
    "    for idx, row in df1.iterrows():\n",
    "        nrow = row.copy()\n",
    "        cls = row[\"RealDifficulty\"]\n",
    "        filename = f'{OUTPUT_FOLDER}/{VARNAME}/{VARNAME}_{idx:03d}_{cls}.csv'\n",
    "        metadata = {}\n",
    "        metadata['series'] = filename\n",
    "        metadata['class'] = cls\n",
    "        metadata['predicted_class'] = cls\n",
    "        metadata['channel'] = VARNAME.replace('_', ' ').capitalize()\n",
    "        metadata['group'] = row['ParticipantID']\n",
    "        metadata['annotation'] = row['Task'] + '-' + row['RealDifficulty']\n",
    "        opposite_class = next(iter(set(df1['RealDifficulty'].unique()) - {row['RealDifficulty']}))\n",
    "\n",
    "        metadata['global_medoid_id'] = global_medoid_id\n",
    "        cls_global_medoid = df1.loc[global_medoid_id]['RealDifficulty']\n",
    "        metadata['global_medoid_series'] = f'{OUTPUT_FOLDER}/{VARNAME}_{global_medoid_id:03d}_{cls_global_medoid}.csv'\n",
    "\n",
    "        metadata['medoid_id_opposite_class'] = medoid_ids_per_class[opposite_class]\n",
    "        metadata['medoid_opposite_class_series'] = f'{OUTPUT_FOLDER}/{VARNAME}_{metadata['medoid_id_opposite_class']:03d}_{opposite_class}.csv'\n",
    "\n",
    "        metadata['medoid_id_opposite_predicted_class'] = metadata['medoid_id_opposite_class']\n",
    "        metadata['medoid_opposite_predicted_class_series'] = metadata['medoid_opposite_class_series']\n",
    "\n",
    "        metadata['global_centroid_series'] = f'{OUTPUT_FOLDER}/global_centroid.csv'\n",
    "\n",
    "        metadata['centroid_opposite_class_series'] = f'{OUTPUT_FOLDER}/{VARNAME}_{opposite_class}_centroid.csv'\n",
    "        metadata['centroid_opposite_predicted_class_series'] = metadata['centroid_opposite_class_series']\n",
    "\n",
    "        metadata['beta_attributions'] = f'{OUTPUT_FOLDER}/{VARNAME}/beta_inst_{idx:03d}.csv'\n",
    "        metadata_dict[f'{VARNAME}' + str(idx)] = metadata"
   ],
   "id": "351932f3-567e-4d1f-ac1d-46d7e972144b",
   "outputs": [],
   "execution_count": 10
  },
  {
   "cell_type": "code",
   "id": "7448e0e6-80c4-4cdf-a1df-487423337b21",
   "metadata": {
    "ExecuteTime": {
     "end_time": "2025-08-26T15:33:46.317362891Z",
     "start_time": "2025-08-26T14:29:40.968848Z"
    }
   },
   "source": [
    "meta_df = pd.DataFrame(metadata_dict)\n",
    "meta_df.T.to_csv(f\"{OUTPUT_FOLDER}/metadata.csv\", index=False)\n"
   ],
   "outputs": [],
   "execution_count": 11
  },
  {
   "cell_type": "code",
   "id": "06651a79-072b-40cf-a28e-f0257d920537",
   "metadata": {
    "ExecuteTime": {
     "end_time": "2025-08-26T15:33:46.328991991Z",
     "start_time": "2025-08-26T14:37:30.306586Z"
    }
   },
   "source": [
    "metametadata_dict = {'units' : {'X': 'pixel', 'Y': 'pixel', 'V': 'pixel/s', 'VA': 'radians/s^2', 'DR': 'radians/s', 'D': 'pixel', 'A': 'pixel/s^2'}, 'descriptions' : {'X': 'X-coordinate', 'Y': 'Y-coordinate', 'V': 'Linear Velocity', 'VA': 'Angular Velocity', 'DR': 'Radial Velocity', 'D': 'Radius', 'A': 'Acceleration'}, 'references' : {'reference_1' : \"Global Medoid\", 'reference_2' : \"Medoid of Opposite Class\", 'reference_3' : \"Medoid of Opposite Class (Predicted)\", 'reference_4' : \"Global Centroid\", 'reference_5' : \"Centroid of Opposite Class\", 'reference_6' : \"Centroid of Opposite Class (Predicted)\"}}\n",
    "import json\n",
    "with open(f\"{OUTPUT_FOLDER}/metametadata.json\", mode=\"w\", encoding=\"utf-8\") as write_file:\n",
    "    json.dump(metametadata_dict, write_file)\n"
   ],
   "outputs": [],
   "execution_count": 12
  },
  {
   "metadata": {},
   "cell_type": "code",
   "outputs": [],
   "execution_count": null,
   "source": "",
   "id": "3989dd679457be9e"
  }
 ],
 "metadata": {
  "kernelspec": {
   "display_name": "Python 3 (ipykernel)",
   "language": "python",
   "name": "python3"
  },
  "language_info": {
   "codemirror_mode": {
    "name": "ipython",
    "version": 3
   },
   "file_extension": ".py",
   "mimetype": "text/x-python",
   "name": "python",
   "nbconvert_exporter": "python",
   "pygments_lexer": "ipython3",
   "version": "3.13.5"
  }
 },
 "nbformat": 4,
 "nbformat_minor": 5
}
