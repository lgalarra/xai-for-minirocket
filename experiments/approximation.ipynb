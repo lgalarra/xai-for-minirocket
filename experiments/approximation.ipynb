{
 "cells": [
  {
   "cell_type": "code",
   "id": "initial_id",
   "metadata": {
    "ExecuteTime": {
     "end_time": "2025-09-02T15:11:34.522409Z",
     "start_time": "2025-09-02T15:11:22.801923Z"
    }
   },
   "source": [
    "%load_ext autoreload\n",
    "%autoreload 2\n",
    "import sys\n",
    "sys.path.append(\"../code\")\n",
    "import importlib\n",
    "import numpy as np\n",
    "import pandas as pd\n",
    "\n",
    "import minirocket_multivariate_variable as mmv\n",
    "\n",
    "importlib.reload(mmv)\n",
    "from sklearn.linear_model import LogisticRegression\n",
    "from utils import get_cognitive_circles_data, get_cognitive_circles_data_for_classification, prepare_cognitive_circles_data_for_minirocket, medoid_per_class"
   ],
   "outputs": [
    {
     "name": "stdout",
     "output_type": "stream",
     "text": [
      "The autoreload extension is already loaded. To reload it, use:\n",
      "  %reload_ext autoreload\n"
     ]
    }
   ],
   "execution_count": 2
  },
  {
   "cell_type": "markdown",
   "id": "48eb423bd52d03e2",
   "metadata": {},
   "source": [
    "## Fetching data"
   ]
  },
  {
   "cell_type": "code",
   "id": "6314ebe4d5bf2c97",
   "metadata": {
    "ExecuteTime": {
     "end_time": "2025-09-02T15:11:35.626951Z",
     "start_time": "2025-09-02T15:11:34.574972Z"
    }
   },
   "source": [
    "df_train_class, y_train, df_test_class, y_test = get_cognitive_circles_data_for_classification('../data/cognitive-circles')\n",
    "df_train_class.head()"
   ],
   "outputs": [
    {
     "data": {
      "text/plain": [
       "           X1          X2          X3          X4          X5          X6  \\\n",
       "0  378.950623  390.868329  404.769576  422.604988  443.423940  467.209975   \n",
       "1  454.875312  465.725686  476.588529  488.401496  500.251870  511.177057   \n",
       "2  462.274314  442.548628  423.781796  405.987531  390.097257  376.152120   \n",
       "3  621.979426  622.958853  623.000000  620.246883  613.720075  605.987531   \n",
       "4  612.955611  613.000000  613.000000  610.266334  605.554863  599.799002   \n",
       "\n",
       "           X7          X8          X9         X10  ...      DR7865  \\\n",
       "0  482.904738  498.319701  512.784040  527.204489  ... -117.633838   \n",
       "1  522.039900  532.902743  537.995012  542.438903  ... -390.684958   \n",
       "2  363.248130  357.103491  351.678928  343.234414  ...   27.476051   \n",
       "3  597.296135  585.975062  573.407107  565.043017  ...   10.431053   \n",
       "4  593.087531  584.598005  576.598005  568.775561  ...   43.396504   \n",
       "\n",
       "       DR7866      DR7867      DR7868      DR7869      DR7870      DR7871  \\\n",
       "0 -123.265863 -131.875027 -140.484191 -148.399901 -154.133713 -159.867525   \n",
       "1 -371.215367 -341.454023 -293.714498 -235.224907 -163.523044   -7.187791   \n",
       "2   20.187588   12.899125    5.610662   -1.677801   -8.966264  -16.254727   \n",
       "3   13.030254   15.629456   18.228658   20.827859   23.427061   26.026263   \n",
       "4   34.576607   25.756711   16.936815    8.116918   -0.702978   -9.522875   \n",
       "\n",
       "       DR7872      DR7873      DR7874  \n",
       "0 -165.502344 -166.982869 -168.463395  \n",
       "1  159.877049  216.619759  276.920364  \n",
       "2  -23.543190  -30.262986  -36.886924  \n",
       "3   28.187702   25.183548   22.179395  \n",
       "4  -18.342771  -27.162667  -35.982564  \n",
       "\n",
       "[5 rows x 55118 columns]"
      ],
      "text/html": [
       "<div>\n",
       "<style scoped>\n",
       "    .dataframe tbody tr th:only-of-type {\n",
       "        vertical-align: middle;\n",
       "    }\n",
       "\n",
       "    .dataframe tbody tr th {\n",
       "        vertical-align: top;\n",
       "    }\n",
       "\n",
       "    .dataframe thead th {\n",
       "        text-align: right;\n",
       "    }\n",
       "</style>\n",
       "<table border=\"1\" class=\"dataframe\">\n",
       "  <thead>\n",
       "    <tr style=\"text-align: right;\">\n",
       "      <th></th>\n",
       "      <th>X1</th>\n",
       "      <th>X2</th>\n",
       "      <th>X3</th>\n",
       "      <th>X4</th>\n",
       "      <th>X5</th>\n",
       "      <th>X6</th>\n",
       "      <th>X7</th>\n",
       "      <th>X8</th>\n",
       "      <th>X9</th>\n",
       "      <th>X10</th>\n",
       "      <th>...</th>\n",
       "      <th>DR7865</th>\n",
       "      <th>DR7866</th>\n",
       "      <th>DR7867</th>\n",
       "      <th>DR7868</th>\n",
       "      <th>DR7869</th>\n",
       "      <th>DR7870</th>\n",
       "      <th>DR7871</th>\n",
       "      <th>DR7872</th>\n",
       "      <th>DR7873</th>\n",
       "      <th>DR7874</th>\n",
       "    </tr>\n",
       "  </thead>\n",
       "  <tbody>\n",
       "    <tr>\n",
       "      <th>0</th>\n",
       "      <td>378.950623</td>\n",
       "      <td>390.868329</td>\n",
       "      <td>404.769576</td>\n",
       "      <td>422.604988</td>\n",
       "      <td>443.423940</td>\n",
       "      <td>467.209975</td>\n",
       "      <td>482.904738</td>\n",
       "      <td>498.319701</td>\n",
       "      <td>512.784040</td>\n",
       "      <td>527.204489</td>\n",
       "      <td>...</td>\n",
       "      <td>-117.633838</td>\n",
       "      <td>-123.265863</td>\n",
       "      <td>-131.875027</td>\n",
       "      <td>-140.484191</td>\n",
       "      <td>-148.399901</td>\n",
       "      <td>-154.133713</td>\n",
       "      <td>-159.867525</td>\n",
       "      <td>-165.502344</td>\n",
       "      <td>-166.982869</td>\n",
       "      <td>-168.463395</td>\n",
       "    </tr>\n",
       "    <tr>\n",
       "      <th>1</th>\n",
       "      <td>454.875312</td>\n",
       "      <td>465.725686</td>\n",
       "      <td>476.588529</td>\n",
       "      <td>488.401496</td>\n",
       "      <td>500.251870</td>\n",
       "      <td>511.177057</td>\n",
       "      <td>522.039900</td>\n",
       "      <td>532.902743</td>\n",
       "      <td>537.995012</td>\n",
       "      <td>542.438903</td>\n",
       "      <td>...</td>\n",
       "      <td>-390.684958</td>\n",
       "      <td>-371.215367</td>\n",
       "      <td>-341.454023</td>\n",
       "      <td>-293.714498</td>\n",
       "      <td>-235.224907</td>\n",
       "      <td>-163.523044</td>\n",
       "      <td>-7.187791</td>\n",
       "      <td>159.877049</td>\n",
       "      <td>216.619759</td>\n",
       "      <td>276.920364</td>\n",
       "    </tr>\n",
       "    <tr>\n",
       "      <th>2</th>\n",
       "      <td>462.274314</td>\n",
       "      <td>442.548628</td>\n",
       "      <td>423.781796</td>\n",
       "      <td>405.987531</td>\n",
       "      <td>390.097257</td>\n",
       "      <td>376.152120</td>\n",
       "      <td>363.248130</td>\n",
       "      <td>357.103491</td>\n",
       "      <td>351.678928</td>\n",
       "      <td>343.234414</td>\n",
       "      <td>...</td>\n",
       "      <td>27.476051</td>\n",
       "      <td>20.187588</td>\n",
       "      <td>12.899125</td>\n",
       "      <td>5.610662</td>\n",
       "      <td>-1.677801</td>\n",
       "      <td>-8.966264</td>\n",
       "      <td>-16.254727</td>\n",
       "      <td>-23.543190</td>\n",
       "      <td>-30.262986</td>\n",
       "      <td>-36.886924</td>\n",
       "    </tr>\n",
       "    <tr>\n",
       "      <th>3</th>\n",
       "      <td>621.979426</td>\n",
       "      <td>622.958853</td>\n",
       "      <td>623.000000</td>\n",
       "      <td>620.246883</td>\n",
       "      <td>613.720075</td>\n",
       "      <td>605.987531</td>\n",
       "      <td>597.296135</td>\n",
       "      <td>585.975062</td>\n",
       "      <td>573.407107</td>\n",
       "      <td>565.043017</td>\n",
       "      <td>...</td>\n",
       "      <td>10.431053</td>\n",
       "      <td>13.030254</td>\n",
       "      <td>15.629456</td>\n",
       "      <td>18.228658</td>\n",
       "      <td>20.827859</td>\n",
       "      <td>23.427061</td>\n",
       "      <td>26.026263</td>\n",
       "      <td>28.187702</td>\n",
       "      <td>25.183548</td>\n",
       "      <td>22.179395</td>\n",
       "    </tr>\n",
       "    <tr>\n",
       "      <th>4</th>\n",
       "      <td>612.955611</td>\n",
       "      <td>613.000000</td>\n",
       "      <td>613.000000</td>\n",
       "      <td>610.266334</td>\n",
       "      <td>605.554863</td>\n",
       "      <td>599.799002</td>\n",
       "      <td>593.087531</td>\n",
       "      <td>584.598005</td>\n",
       "      <td>576.598005</td>\n",
       "      <td>568.775561</td>\n",
       "      <td>...</td>\n",
       "      <td>43.396504</td>\n",
       "      <td>34.576607</td>\n",
       "      <td>25.756711</td>\n",
       "      <td>16.936815</td>\n",
       "      <td>8.116918</td>\n",
       "      <td>-0.702978</td>\n",
       "      <td>-9.522875</td>\n",
       "      <td>-18.342771</td>\n",
       "      <td>-27.162667</td>\n",
       "      <td>-35.982564</td>\n",
       "    </tr>\n",
       "  </tbody>\n",
       "</table>\n",
       "<p>5 rows × 55118 columns</p>\n",
       "</div>"
      ]
     },
     "execution_count": 3,
     "metadata": {},
     "output_type": "execute_result"
    }
   ],
   "execution_count": 3
  },
  {
   "cell_type": "code",
   "id": "ced056a5f7e9f4b9",
   "metadata": {
    "ExecuteTime": {
     "end_time": "2025-09-02T15:11:40.146696Z",
     "start_time": "2025-09-02T15:11:40.133027Z"
    }
   },
   "source": [
    "X_train, y_train = prepare_cognitive_circles_data_for_minirocket(df_train_class, y_train)\n",
    "X_test, y_test = prepare_cognitive_circles_data_for_minirocket(df_test_class, y_test)\n",
    "X_train.shape"
   ],
   "outputs": [
    {
     "data": {
      "text/plain": [
       "(240, 7, 7874)"
      ]
     },
     "execution_count": 4,
     "metadata": {},
     "output_type": "execute_result"
    }
   ],
   "execution_count": 4
  },
  {
   "cell_type": "markdown",
   "id": "7b6d37a0a77377df",
   "metadata": {},
   "source": [
    "## Training MiniROCKET"
   ]
  },
  {
   "cell_type": "code",
   "id": "31df010ef87018e0",
   "metadata": {
    "ExecuteTime": {
     "end_time": "2025-09-02T15:33:10.653053Z",
     "start_time": "2025-09-02T15:32:47.393796Z"
    }
   },
   "source": [
    "params = mmv.fit_minirocket_parameters(X_train)\n",
    "out_train = mmv.transform_prime(X_train, parameters=params)\n",
    "Phi_train = out_train[\"phi\"]\n",
    "print(\"Phi_train:\", Phi_train.shape)\n",
    "out_test = mmv.transform_prime(X_test, parameters=params)\n",
    "Phi_test = out_test[\"phi\"]"
   ],
   "outputs": [
    {
     "name": "stdout",
     "output_type": "stream",
     "text": [
      "Phi_train: (240, 9996)\n"
     ]
    }
   ],
   "execution_count": 23
  },
  {
   "cell_type": "markdown",
   "id": "f7715a12d9192957",
   "metadata": {},
   "source": [
    "## Training a classifier"
   ]
  },
  {
   "cell_type": "code",
   "id": "8a0f791024d8c5e1",
   "metadata": {
    "ExecuteTime": {
     "end_time": "2025-09-02T15:16:43.956798Z",
     "start_time": "2025-09-02T15:16:41.482401Z"
    }
   },
   "source": [
    "clf_phi = LogisticRegression(max_iter=2000, solver=\"lbfgs\", multi_class=\"auto\", n_jobs=-1).fit(Phi_train, y_train)\n",
    "from sklearn.metrics import accuracy_score\n",
    "print('Accuracy score:', accuracy_score(y_test, clf_phi.predict(Phi_test)))\n"
   ],
   "outputs": [
    {
     "name": "stderr",
     "output_type": "stream",
     "text": [
      "/home/lgalarra/.local/lib/python3.13/site-packages/sklearn/linear_model/_logistic.py:1272: FutureWarning: 'multi_class' was deprecated in version 1.5 and will be removed in 1.7. From then on, it will always use 'multinomial'. Leave it to its default value to avoid this warning.\n",
      "  warnings.warn(\n",
      "Traceback (most recent call last):\n",
      "  File \u001B[35m\"/usr/lib64/python3.13/multiprocessing/resource_tracker.py\"\u001B[0m, line \u001B[35m295\u001B[0m, in \u001B[35mmain\u001B[0m\n",
      "    raise ValueError(\n",
      "        f'Cannot register {name} for automatic cleanup: '\n",
      "        f'unknown resource type {rtype}')\n",
      "\u001B[1;35mValueError\u001B[0m: \u001B[35mCannot register /dev/shm/joblib_memmapping_folder_116584_6ff79ceeeb504d348df0118f055e0a34_8287b8e501ef4d668a8c364d65eb4fec for automatic cleanup: unknown resource type folder\u001B[0m\n",
      "Traceback (most recent call last):\n",
      "  File \u001B[35m\"/usr/lib64/python3.13/multiprocessing/resource_tracker.py\"\u001B[0m, line \u001B[35m295\u001B[0m, in \u001B[35mmain\u001B[0m\n",
      "    raise ValueError(\n",
      "        f'Cannot register {name} for automatic cleanup: '\n",
      "        f'unknown resource type {rtype}')\n",
      "\u001B[1;35mValueError\u001B[0m: \u001B[35mCannot register /dev/shm/joblib_memmapping_folder_116584_715b0f7bda044017a18a3b1b39456b14_82102779e4a84a14a7d122e47137f8fc for automatic cleanup: unknown resource type folder\u001B[0m\n",
      "Traceback (most recent call last):\n",
      "  File \u001B[35m\"/usr/lib64/python3.13/multiprocessing/resource_tracker.py\"\u001B[0m, line \u001B[35m295\u001B[0m, in \u001B[35mmain\u001B[0m\n",
      "    raise ValueError(\n",
      "        f'Cannot register {name} for automatic cleanup: '\n",
      "        f'unknown resource type {rtype}')\n",
      "\u001B[1;35mValueError\u001B[0m: \u001B[35mCannot register /dev/shm/joblib_memmapping_folder_116584_715b0f7bda044017a18a3b1b39456b14_82102779e4a84a14a7d122e47137f8fc/116584-139974833855696-51b87100621b42238648ced676f44da6.pkl for automatic cleanup: unknown resource type file\u001B[0m\n",
      "Traceback (most recent call last):\n",
      "  File \u001B[35m\"/usr/lib64/python3.13/multiprocessing/resource_tracker.py\"\u001B[0m, line \u001B[35m295\u001B[0m, in \u001B[35mmain\u001B[0m\n",
      "    raise ValueError(\n",
      "        f'Cannot register {name} for automatic cleanup: '\n",
      "        f'unknown resource type {rtype}')\n",
      "\u001B[1;35mValueError\u001B[0m: \u001B[35mCannot register /dev/shm/joblib_memmapping_folder_116584_715b0f7bda044017a18a3b1b39456b14_82102779e4a84a14a7d122e47137f8fc/116584-139974833855696-51b87100621b42238648ced676f44da6.pkl for automatic cleanup: unknown resource type file\u001B[0m\n",
      "Traceback (most recent call last):\n",
      "  File \u001B[35m\"/usr/lib64/python3.13/multiprocessing/resource_tracker.py\"\u001B[0m, line \u001B[35m295\u001B[0m, in \u001B[35mmain\u001B[0m\n",
      "    raise ValueError(\n",
      "        f'Cannot register {name} for automatic cleanup: '\n",
      "        f'unknown resource type {rtype}')\n",
      "\u001B[1;35mValueError\u001B[0m: \u001B[35mCannot register /dev/shm/joblib_memmapping_folder_116584_715b0f7bda044017a18a3b1b39456b14_82102779e4a84a14a7d122e47137f8fc/116584-139974833855696-51b87100621b42238648ced676f44da6.pkl for automatic cleanup: unknown resource type file\u001B[0m\n",
      "Traceback (most recent call last):\n",
      "  File \u001B[35m\"/usr/lib64/python3.13/multiprocessing/resource_tracker.py\"\u001B[0m, line \u001B[35m295\u001B[0m, in \u001B[35mmain\u001B[0m\n",
      "    raise ValueError(\n",
      "        f'Cannot register {name} for automatic cleanup: '\n",
      "        f'unknown resource type {rtype}')\n",
      "\u001B[1;35mValueError\u001B[0m: \u001B[35mCannot register /dev/shm/joblib_memmapping_folder_116584_715b0f7bda044017a18a3b1b39456b14_82102779e4a84a14a7d122e47137f8fc/116584-139974833855696-51b87100621b42238648ced676f44da6.pkl for automatic cleanup: unknown resource type file\u001B[0m\n"
     ]
    },
    {
     "name": "stdout",
     "output_type": "stream",
     "text": [
      "Accuracy score: 0.75\n"
     ]
    }
   ],
   "execution_count": 7
  },
  {
   "metadata": {
    "ExecuteTime": {
     "end_time": "2025-09-02T15:17:59.976480Z",
     "start_time": "2025-09-02T15:17:59.956735Z"
    }
   },
   "cell_type": "code",
   "source": "Phi_train.std(axis=1)",
   "id": "3680d816fa80bc3d",
   "outputs": [
    {
     "data": {
      "text/plain": [
       "array([0.33531576, 0.25649467, 0.33205494, 0.31737602, 0.3356113 ,\n",
       "       0.31459475, 0.32865927, 0.28780955, 0.34973037, 0.30698985,\n",
       "       0.32790366, 0.29466298, 0.31286293, 0.29130468, 0.30586714,\n",
       "       0.29683924, 0.23990344, 0.315601  , 0.31302693, 0.31708828,\n",
       "       0.31855553, 0.31183   , 0.31809226, 0.32999504, 0.32575056,\n",
       "       0.26616645, 0.33070344, 0.26798227, 0.3073488 , 0.23096585,\n",
       "       0.28989047, 0.2941794 , 0.21363376, 0.20384373, 0.22414657,\n",
       "       0.20408408, 0.27938408, 0.28216255, 0.34213927, 0.28513527,\n",
       "       0.2675626 , 0.26004076, 0.27723458, 0.2561114 , 0.25305763,\n",
       "       0.24157056, 0.27757564, 0.28521633, 0.32716915, 0.30775288,\n",
       "       0.31804195, 0.32121447, 0.33027673, 0.3196955 , 0.22674914,\n",
       "       0.31094018, 0.246631  , 0.2269703 , 0.2269145 , 0.31086808,\n",
       "       0.3261347 , 0.32188183, 0.31366217, 0.3128657 , 0.33132744,\n",
       "       0.33478707, 0.2447153 , 0.27911878, 0.23195735, 0.23071747,\n",
       "       0.31680614, 0.31611836, 0.3298148 , 0.24229604, 0.24095626,\n",
       "       0.23770316, 0.23438057, 0.22394219, 0.34696588, 0.34693405,\n",
       "       0.32906651, 0.31388724, 0.33636662, 0.3303553 , 0.22826679,\n",
       "       0.24233474, 0.3294515 , 0.3104149 , 0.24927092, 0.296174  ,\n",
       "       0.265124  , 0.2619378 , 0.32057127, 0.29649803, 0.26574302,\n",
       "       0.26065943, 0.24840869, 0.1845074 , 0.2823947 , 0.28128883,\n",
       "       0.18566865, 0.17605194, 0.22959897, 0.33106256, 0.24364264,\n",
       "       0.2360567 , 0.32763794, 0.32838762, 0.33281824, 0.32079238,\n",
       "       0.29717794, 0.32445663, 0.33562765, 0.32315597, 0.3445169 ,\n",
       "       0.3168824 , 0.3450083 , 0.32174492, 0.34086424, 0.3190019 ,\n",
       "       0.33360714, 0.3241688 , 0.30276638, 0.3393141 , 0.30199787,\n",
       "       0.3264862 , 0.330465  , 0.32247812, 0.35844424, 0.31655288,\n",
       "       0.3213422 , 0.3216925 , 0.29347947, 0.28846437, 0.296875  ,\n",
       "       0.3021988 , 0.2945475 , 0.29830477, 0.33934504, 0.30506608,\n",
       "       0.29357344, 0.28882685, 0.31312972, 0.31079033, 0.33324602,\n",
       "       0.30267876, 0.33732197, 0.31036052, 0.3380969 , 0.31262133,\n",
       "       0.23220475, 0.23390089, 0.22028975, 0.20633996, 0.32300428,\n",
       "       0.2991708 , 0.33412695, 0.30946153, 0.31982544, 0.32210115,\n",
       "       0.31884617, 0.30349883, 0.3351185 , 0.3229688 , 0.34606385,\n",
       "       0.3012445 , 0.32632643, 0.31598598, 0.30144936, 0.30548212,\n",
       "       0.35138425, 0.3159829 , 0.33842713, 0.3010256 , 0.31716725,\n",
       "       0.21540342, 0.32974657, 0.20179008, 0.30805773, 0.2004559 ,\n",
       "       0.29387155, 0.25645682, 0.33048013, 0.33564866, 0.2954887 ,\n",
       "       0.25549   , 0.31610933, 0.19781394, 0.32308677, 0.25553507,\n",
       "       0.17732267, 0.20481482, 0.31079462, 0.21319368, 0.32145968,\n",
       "       0.22073942, 0.31279832, 0.31053978, 0.29703566, 0.20664625,\n",
       "       0.30550662, 0.20950079, 0.32695562, 0.19501646, 0.33282435,\n",
       "       0.30999908, 0.3506361 , 0.30565408, 0.27358076, 0.21835412,\n",
       "       0.35017982, 0.29970872, 0.35755998, 0.31283697, 0.3388411 ,\n",
       "       0.31114137, 0.35922417, 0.3260802 , 0.3272805 , 0.3007134 ,\n",
       "       0.34899786, 0.3347009 , 0.32473975, 0.26472712, 0.34979552,\n",
       "       0.32993594, 0.33433405, 0.32240963, 0.31329045, 0.28369668,\n",
       "       0.37515286, 0.34550327, 0.36215824, 0.27244034, 0.35823748,\n",
       "       0.32419378, 0.33363694, 0.31163335, 0.3326222 , 0.32179615],\n",
       "      dtype=float32)"
      ]
     },
     "execution_count": 11,
     "metadata": {},
     "output_type": "execute_result"
    }
   ],
   "execution_count": 11
  },
  {
   "cell_type": "code",
   "id": "96b0bfb4199df846",
   "metadata": {
    "ExecuteTime": {
     "end_time": "2025-09-02T15:24:54.579063Z",
     "start_time": "2025-09-02T15:24:50.644034Z"
    }
   },
   "source": [
    "def invert_class(y: pd.Series):\n",
    "    if len(pd.unique(y)) == 2:\n",
    "        return y.map(lambda x: 1 if x == 0 else 0)\n",
    "    else:\n",
    "        ## TODO: Support multi-class\n",
    "        return y\n",
    "\n",
    "def get_opposite_medoid_ids(df: pd.DataFrame, y: pd.Series, medoids_per_class: dict):\n",
    "    y_opposite = invert_class(y)\n",
    "    opposite_medoids = [medoids_per_class[i] for i in y_opposite.values]\n",
    "    return opposite_medoids\n",
    "\n",
    "def _ensure_TC(x):\n",
    "    x = np.asarray(x)\n",
    "    if x.ndim == 3:\n",
    "        assert x.shape[0] == 1\n",
    "        x = x[0]\n",
    "    if x.ndim == 2:\n",
    "        return x.T if x.shape[0] < x.shape[1] else x\n",
    "    raise ValueError(f\"Forma no soportada: {x.shape}\")\n",
    "\n",
    "def _flatten_tc(x_tc):\n",
    "    return _ensure_TC(x_tc).reshape(-1)\n",
    "    \n",
    "medoid_per_class = medoid_per_class(df_train_class, y_train)\n",
    "opposite_medoid_ids = get_opposite_medoid_ids(df_train_class, y_train, medoid_per_class)"
   ],
   "outputs": [],
   "execution_count": 16
  },
  {
   "cell_type": "markdown",
   "id": "dd303ca9b89c0df8",
   "metadata": {},
   "source": [
    "Explain one instance"
   ]
  },
  {
   "cell_type": "code",
   "id": "fd3d3973-66b0-4c56-9808-fba32a3fea25",
   "metadata": {
    "ExecuteTime": {
     "end_time": "2025-09-02T15:24:54.596393Z",
     "start_time": "2025-09-02T15:24:54.585744Z"
    }
   },
   "source": [
    "IDX_TO_EXPLAIN = 0 "
   ],
   "outputs": [],
   "execution_count": 17
  },
  {
   "cell_type": "code",
   "id": "9646c5e7-d0c2-44d1-b949-407c2b9888a6",
   "metadata": {
    "ExecuteTime": {
     "end_time": "2025-09-02T15:24:54.651101Z",
     "start_time": "2025-09-02T15:24:54.632078Z"
    }
   },
   "source": [
    "from utils import logistic_gradient, medoid_per_class\n",
    "y_train_pred = clf_phi.predict(Phi_train)"
   ],
   "outputs": [],
   "execution_count": 18
  },
  {
   "cell_type": "code",
   "id": "94e1eb321dd3b02e",
   "metadata": {
    "ExecuteTime": {
     "end_time": "2025-09-02T15:24:55.532031Z",
     "start_time": "2025-09-02T15:24:54.683049Z"
    }
   },
   "source": [
    "alphas = logistic_gradient(clf_phi, Phi_train[IDX_TO_EXPLAIN])\n",
    "out_x  = mmv.transform_prime(X_train[IDX_TO_EXPLAIN])\n",
    "out_x0  = mmv.transform_prime(X_train[opposite_medoid_ids[IDX_TO_EXPLAIN]])"
   ],
   "outputs": [],
   "execution_count": 19
  },
  {
   "cell_type": "code",
   "id": "dba046f742ff45c4",
   "metadata": {
    "ExecuteTime": {
     "end_time": "2025-09-02T15:26:50.813658Z",
     "start_time": "2025-09-02T15:24:55.597036Z"
    }
   },
   "source": [
    "beta = mmv.propagate_luis(alphas, out_x[\"traces\"], X_train[IDX_TO_EXPLAIN], X_train[opposite_medoid_ids[IDX_TO_EXPLAIN]], mode=\"channel_energy\", per_channel=True)\n",
    "print(beta)"
   ],
   "outputs": [
    {
     "name": "stdout",
     "output_type": "stream",
     "text": [
      "[[ 9.52370418e-09  4.16877815e-08  8.25241975e-08 ... -3.57699452e-08\n",
      "   9.33769789e-08 -1.50996607e-08]\n",
      " [ 1.25612010e-08  1.02351477e-08  8.87017452e-08 ...  2.17658879e-08\n",
      "   3.72406255e-08  4.56722861e-09]\n",
      " [ 1.89885733e-08 -3.70451860e-08  6.88823688e-08 ... -4.05317840e-08\n",
      "   8.69342431e-08 -3.92913543e-09]\n",
      " ...\n",
      " [ 1.61661688e-07  9.00331079e-09 -2.12943244e-07 ... -1.65425031e-07\n",
      "  -5.30073661e-08  3.42318321e-08]\n",
      " [ 1.57235012e-07  3.70719634e-08 -2.27086084e-07 ... -1.66300578e-07\n",
      "  -9.64437940e-08  5.02448670e-08]\n",
      " [ 2.01472635e-07  4.94568053e-08 -1.64456584e-07 ... -1.30734224e-07\n",
      "  -1.41998952e-07  7.50769899e-08]]\n"
     ]
    }
   ],
   "execution_count": 20
  },
  {
   "cell_type": "code",
   "id": "0f0aa7cd-153d-48bc-a679-bf3bd73036c0",
   "metadata": {
    "ExecuteTime": {
     "end_time": "2025-09-02T15:27:10.848951Z",
     "start_time": "2025-09-02T15:27:10.837178Z"
    }
   },
   "source": "beta.shape",
   "outputs": [
    {
     "data": {
      "text/plain": [
       "(7874, 7)"
      ]
     },
     "execution_count": 21,
     "metadata": {},
     "output_type": "execute_result"
    }
   ],
   "execution_count": 21
  },
  {
   "metadata": {},
   "cell_type": "code",
   "outputs": [],
   "execution_count": null,
   "source": [
    "class MinirocketClassifier:\n",
    "\n",
    "    def __init__(self, classifier):\n",
    "        self.classifier = classifier\n",
    "        self.minirocket_params = None\n",
    "        self.traces_obj = None\n",
    "\n",
    "    def fit(self, X, y):\n",
    "        self.minirocket_params = mmv.fit_minirocket_parameters(X)\n",
    "        self.traces_obj = mmv.transform_prime(X, parameters=self.minirocket_params)\n",
    "        self.classifier.fit(self.traces_obj[\"phi\"], y)\n",
    "\n",
    "    def minirocket_transform(self, X):\n",
    "        pass\n",
    "\n",
    "    def get_minirocket_representation(self):\n",
    "        ##TODO: Verify that the thing is fit\n",
    "        return self.traces_obj[\"phi\"]\n",
    "\n",
    "    def predict(self, X):\n",
    "        out = mmv.transform_prime(X, parameters=self.minirocket_params)\n",
    "        return clf_phi.predict(out[\"phi\"])\n",
    "\n",
    "    def explain_instances(self, X, reference_policy='opposite_class_medoid', reference=None):\n",
    "        \"\"\"\n",
    "\n",
    "        :param X:\n",
    "        :param reference_policy: opposite_class_medoid | global_medoid | global_centroid | opposite_class_centroid | opposite_predicted_class_medoid | opposite_predicted_class_centroid | farthest_instance | custom\n",
    "        :return:\n",
    "        \"\"\"\n",
    "        pass\n",
    "\n",
    "    def explain_instances_from_explainer(self, X, explainerfn=None):\n",
    "        if explainerfn is None:\n",
    "            return self.explain_instances(X)\n",
    "        return explainerfn(X)\n",
    "\n",
    "def get_minirocket_classifier(X_train, y_train, classifier=LogisticRegression()):\n",
    "    \"\"\"\n",
    "\n",
    "    :param X_train: numpy array of size (n, C, L), n=num_examples, C=num_channels, L=num_samples_per_channel\n",
    "    :param y_train: variable of size (n,)\n",
    "    :param classifier: non-fitted sklearn classifier\n",
    "    :return: MinirocketClassifier\n",
    "    \"\"\"\n",
    "    pass"
   ],
   "id": "3b0889cb0cbe763d"
  }
 ],
 "metadata": {
  "kernelspec": {
   "display_name": "Python 3 (ipykernel)",
   "language": "python",
   "name": "python3"
  },
  "language_info": {
   "codemirror_mode": {
    "name": "ipython",
    "version": 3
   },
   "file_extension": ".py",
   "mimetype": "text/x-python",
   "name": "python",
   "nbconvert_exporter": "python",
   "pygments_lexer": "ipython3",
   "version": "3.10.12"
  }
 },
 "nbformat": 4,
 "nbformat_minor": 5
}
