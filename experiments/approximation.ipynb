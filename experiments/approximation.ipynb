{
 "cells": [
  {
   "cell_type": "code",
   "id": "initial_id",
   "metadata": {
    "ExecuteTime": {
     "end_time": "2025-09-03T16:19:24.499271Z",
     "start_time": "2025-09-03T16:19:23.630169Z"
    }
   },
   "source": [
    "%load_ext autoreload\n",
    "%autoreload 2\n",
    "import importlib\n",
    "from sklearn.ensemble import RandomForestClassifier\n",
    "import minirocket_multivariate_variable as mmv\n",
    "importlib.reload(mmv)\n",
    "from sklearn.linear_model import LogisticRegression\n",
    "from utils import get_cognitive_circles_data_for_classification\n",
    "from classifier import MinirocketClassifier"
   ],
   "outputs": [
    {
     "name": "stderr",
     "output_type": "stream",
     "text": [
      "/home/lgalarra/Documents/git/xai-for-minirocket/.venv/lib/python3.13/site-packages/tqdm/auto.py:21: TqdmWarning: IProgress not found. Please update jupyter and ipywidgets. See https://ipywidgets.readthedocs.io/en/stable/user_install.html\n",
      "  from .autonotebook import tqdm as notebook_tqdm\n"
     ]
    }
   ],
   "execution_count": 1
  },
  {
   "cell_type": "markdown",
   "id": "48eb423bd52d03e2",
   "metadata": {},
   "source": [
    "## Fetching data"
   ]
  },
  {
   "metadata": {
    "ExecuteTime": {
     "end_time": "2025-09-03T16:19:29.157133Z",
     "start_time": "2025-09-03T16:19:28.636434Z"
    }
   },
   "cell_type": "code",
   "source": "(X_train, y_train), (X_test, y_test) = get_cognitive_circles_data_for_classification('../data/cognitive-circles', target_col='RealDifficulty', as_numpy=True)",
   "id": "ce07e94576802695",
   "outputs": [],
   "execution_count": 2
  },
  {
   "cell_type": "markdown",
   "id": "7b6d37a0a77377df",
   "metadata": {},
   "source": [
    "## Training MiniROCKET"
   ]
  },
  {
   "cell_type": "code",
   "id": "31df010ef87018e0",
   "metadata": {
    "ExecuteTime": {
     "end_time": "2025-09-03T16:20:12.191773Z",
     "start_time": "2025-09-03T16:19:50.115375Z"
    }
   },
   "source": [
    "%load_ext autoreload\n",
    "%autoreload 2\n",
    "#mr_classifier = LogisticRegression(max_iter=2000, solver=\"lbfgs\", multi_class=\"auto\")\n",
    "mr_classifier = RandomForestClassifier(n_estimators=100)\n",
    "classifier = MinirocketClassifier(minirocket_features_classifier=mr_classifier)\n",
    "classifier.fit(X_train, y_train)\n",
    "from sklearn.metrics import accuracy_score\n",
    "print('Accuracy score:', accuracy_score(y_test, classifier.predict(X_test)))"
   ],
   "outputs": [
    {
     "name": "stdout",
     "output_type": "stream",
     "text": [
      "The autoreload extension is already loaded. To reload it, use:\n",
      "  %reload_ext autoreload\n",
      "Accuracy score: 0.75\n"
     ]
    }
   ],
   "execution_count": 4
  },
  {
   "cell_type": "markdown",
   "id": "dd303ca9b89c0df8",
   "metadata": {},
   "source": "## Explaining two instances"
  },
  {
   "cell_type": "code",
   "id": "94e1eb321dd3b02e",
   "metadata": {
    "ExecuteTime": {
     "end_time": "2025-09-03T16:21:03.742419Z",
     "start_time": "2025-09-03T16:20:18.483557Z"
    }
   },
   "source": [
    "explainer =  classifier.get_explainer()\n",
    "explanation = explainer.explain_instances(X_test[0:2], classifier_explainer='shap', reference_policy='opposite_class_centroid')\n",
    "print(explanation.explanation[0]['coefficients'])"
   ],
   "outputs": [
    {
     "ename": "ValueError",
     "evalue": "operands could not be broadcast together with shapes (7874,7) (7,1,7874) (7874,7) ",
     "output_type": "error",
     "traceback": [
      "\u001B[31m---------------------------------------------------------------------------\u001B[39m",
      "\u001B[31mValueError\u001B[39m                                Traceback (most recent call last)",
      "\u001B[36mCell\u001B[39m\u001B[36m \u001B[39m\u001B[32mIn[5]\u001B[39m\u001B[32m, line 2\u001B[39m\n\u001B[32m      1\u001B[39m explainer =  classifier.get_explainer()\n\u001B[32m----> \u001B[39m\u001B[32m2\u001B[39m explanation = \u001B[43mexplainer\u001B[49m\u001B[43m.\u001B[49m\u001B[43mexplain_instances\u001B[49m\u001B[43m(\u001B[49m\u001B[43mX_test\u001B[49m\u001B[43m[\u001B[49m\u001B[32;43m0\u001B[39;49m\u001B[43m:\u001B[49m\u001B[32;43m2\u001B[39;49m\u001B[43m]\u001B[49m\u001B[43m,\u001B[49m\u001B[43m \u001B[49m\n\u001B[32m      3\u001B[39m \u001B[43m                                          \u001B[49m\u001B[43mclassifier_explainer\u001B[49m\u001B[43m=\u001B[49m\u001B[33;43m'\u001B[39;49m\u001B[33;43mshap\u001B[39;49m\u001B[33;43m'\u001B[39;49m\u001B[43m,\u001B[49m\n\u001B[32m      4\u001B[39m \u001B[43m                                  \u001B[49m\u001B[43mreference_policy\u001B[49m\u001B[43m=\u001B[49m\u001B[33;43m'\u001B[39;49m\u001B[33;43mopposite_class_centroid\u001B[39;49m\u001B[33;43m'\u001B[39;49m\u001B[43m)\u001B[49m\n\u001B[32m      5\u001B[39m \u001B[38;5;28mprint\u001B[39m(explanation.instances[\u001B[32m0\u001B[39m][\u001B[33m'\u001B[39m\u001B[33mcoefficients\u001B[39m\u001B[33m'\u001B[39m])\n",
      "\u001B[36mFile \u001B[39m\u001B[32m~/Documents/git/xai-for-minirocket/code/explainer.py:114\u001B[39m, in \u001B[36mMinirocketExplainer.explain_instances\u001B[39m\u001B[34m(self, X, y, classifier_explainer, reference_policy, reference)\u001B[39m\n\u001B[32m    112\u001B[39m \u001B[38;5;28;01melse\u001B[39;00m:\n\u001B[32m    113\u001B[39m     \u001B[38;5;28;01mfor\u001B[39;00m idx, x \u001B[38;5;129;01min\u001B[39;00m \u001B[38;5;28menumerate\u001B[39m(X):\n\u001B[32m--> \u001B[39m\u001B[32m114\u001B[39m         explanation.add_instance(\u001B[38;5;28;43mself\u001B[39;49m\u001B[43m.\u001B[49m\u001B[43m_explain_single_instance\u001B[49m\u001B[43m(\u001B[49m\u001B[43mx\u001B[49m\u001B[43m,\u001B[49m\u001B[43m \u001B[49m\u001B[43my\u001B[49m\u001B[43m[\u001B[49m\u001B[43midx\u001B[49m\u001B[43m]\u001B[49m\u001B[43m,\u001B[49m\n\u001B[32m    115\u001B[39m \u001B[43m                                                               \u001B[49m\u001B[43mclassifier_explainer\u001B[49m\u001B[43m,\u001B[49m\n\u001B[32m    116\u001B[39m \u001B[43m                                                               \u001B[49m\u001B[43mreference_policy\u001B[49m\u001B[43m,\u001B[49m\u001B[43m \u001B[49m\u001B[43mreference\u001B[49m\u001B[43m)\u001B[49m)\n\u001B[32m    118\u001B[39m \u001B[38;5;28;01mreturn\u001B[39;00m explanation\n",
      "\u001B[36mFile \u001B[39m\u001B[32m~/Documents/git/xai-for-minirocket/code/explainer.py:69\u001B[39m, in \u001B[36mMinirocketExplainer._explain_single_instance\u001B[39m\u001B[34m(self, x_target, y_label, classifier_explainer_fn, reference_policy, reference)\u001B[39m\n\u001B[32m     65\u001B[39m classifier_explainer_fn = get_minirocket_classifier_explainer(classifier_explainer_fn,\n\u001B[32m     66\u001B[39m                                                               \u001B[38;5;28mself\u001B[39m.minirocket_classifier.predict,\n\u001B[32m     67\u001B[39m                                                               background=np.array(reference_mr[\u001B[33m'\u001B[39m\u001B[33mphi\u001B[39m\u001B[33m'\u001B[39m]))\n\u001B[32m     68\u001B[39m alphas = classifier_explainer_fn(out_x[\u001B[33m'\u001B[39m\u001B[33mphi\u001B[39m\u001B[33m'\u001B[39m])\n\u001B[32m---> \u001B[39m\u001B[32m69\u001B[39m beta = \u001B[43mback_propagate_attribution\u001B[49m\u001B[43m(\u001B[49m\u001B[43malphas\u001B[49m\u001B[43m,\u001B[49m\u001B[43m \u001B[49m\u001B[43mout_x\u001B[49m\u001B[43m[\u001B[49m\u001B[33;43m\"\u001B[39;49m\u001B[33;43mtraces\u001B[39;49m\u001B[33;43m\"\u001B[39;49m\u001B[43m]\u001B[49m\u001B[43m,\u001B[49m\u001B[43m \u001B[49m\u001B[43mx_target\u001B[49m\u001B[43m,\u001B[49m\u001B[43m \u001B[49m\u001B[43mreference\u001B[49m\u001B[43m,\u001B[49m\n\u001B[32m     70\u001B[39m \u001B[43m                                  \u001B[49m\u001B[43mper_channel\u001B[49m\u001B[43m=\u001B[49m\u001B[43mis_multichannel\u001B[49m\u001B[43m)\u001B[49m\n\u001B[32m     71\u001B[39m \u001B[38;5;28;01mreturn\u001B[39;00m {\u001B[33m'\u001B[39m\u001B[33mcoefficients\u001B[39m\u001B[33m'\u001B[39m: beta, \u001B[33m'\u001B[39m\u001B[33mminirocket_coefficients\u001B[39m\u001B[33m'\u001B[39m: alphas,\n\u001B[32m     72\u001B[39m         \u001B[33m'\u001B[39m\u001B[33minstance\u001B[39m\u001B[33m'\u001B[39m: x_target, \u001B[33m'\u001B[39m\u001B[33minstance_transformed\u001B[39m\u001B[33m'\u001B[39m: out_x[\u001B[33m'\u001B[39m\u001B[33mphi\u001B[39m\u001B[33m'\u001B[39m],\n\u001B[32m     73\u001B[39m         \u001B[33m'\u001B[39m\u001B[33mtraces\u001B[39m\u001B[33m'\u001B[39m: out_x[\u001B[33m'\u001B[39m\u001B[33mtraces\u001B[39m\u001B[33m'\u001B[39m], \u001B[33m'\u001B[39m\u001B[33mreference\u001B[39m\u001B[33m'\u001B[39m: reference,\n\u001B[32m   (...)\u001B[39m\u001B[32m     77\u001B[39m         \u001B[33m'\u001B[39m\u001B[33minstance_logits\u001B[39m\u001B[33m'\u001B[39m: \u001B[38;5;28mself\u001B[39m.minirocket_classifier.predict_proba(out_x[\u001B[33m'\u001B[39m\u001B[33mphi\u001B[39m\u001B[33m'\u001B[39m])\n\u001B[32m     78\u001B[39m         }\n",
      "\u001B[36mFile \u001B[39m\u001B[32m~/Documents/git/xai-for-minirocket/code/minirocket_multivariate_variable.py:808\u001B[39m, in \u001B[36mback_propagate_attribution\u001B[39m\u001B[34m(alphas, traces_x, x_tc, x0_tc, sigma_ref, per_channel)\u001B[39m\n\u001B[32m    805\u001B[39m                     beta[j, i_ch] += contrib_t[j] * (e[j, i_ch] / Ej)\n\u001B[32m    807\u001B[39m \u001B[38;5;66;03m# Aplica dt y cierre global Σ_{t,i} β_{t,i} = Σ_k α_k (= Δf)\u001B[39;00m\n\u001B[32m--> \u001B[39m\u001B[32m808\u001B[39m \u001B[43mbeta\u001B[49m\u001B[43m \u001B[49m\u001B[43m*\u001B[49m\u001B[43m=\u001B[49m\u001B[43m \u001B[49m\u001B[43mdt_vec\u001B[49m\u001B[43m[\u001B[49m\u001B[43m:\u001B[49m\u001B[43m,\u001B[49m\u001B[43m \u001B[49m\u001B[38;5;28;43;01mNone\u001B[39;49;00m\u001B[43m]\u001B[49m\n\u001B[32m    809\u001B[39m S = \u001B[38;5;28mfloat\u001B[39m(beta.sum())\n\u001B[32m    810\u001B[39m \u001B[38;5;28;01mif\u001B[39;00m S != \u001B[32m0.0\u001B[39m:\n",
      "\u001B[31mValueError\u001B[39m: operands could not be broadcast together with shapes (7874,7) (7,1,7874) (7874,7) "
     ]
    }
   ],
   "execution_count": 5
  },
  {
   "metadata": {},
   "cell_type": "code",
   "outputs": [],
   "execution_count": null,
   "source": "",
   "id": "9f20f5c501174592"
  }
 ],
 "metadata": {
  "kernelspec": {
   "display_name": "Python 3 (ipykernel)",
   "language": "python",
   "name": "python3"
  },
  "language_info": {
   "codemirror_mode": {
    "name": "ipython",
    "version": 3
   },
   "file_extension": ".py",
   "mimetype": "text/x-python",
   "name": "python",
   "nbconvert_exporter": "python",
   "pygments_lexer": "ipython3",
   "version": "3.10.12"
  }
 },
 "nbformat": 4,
 "nbformat_minor": 5
}
