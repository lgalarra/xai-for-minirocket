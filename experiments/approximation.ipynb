{
 "cells": [
  {
   "cell_type": "code",
   "execution_count": 97,
   "id": "initial_id",
   "metadata": {
    "ExecuteTime": {
     "end_time": "2025-09-01T09:27:51.671852Z",
     "start_time": "2025-09-01T09:27:51.614605Z"
    }
   },
   "outputs": [
    {
     "name": "stdout",
     "output_type": "stream",
     "text": [
      "The autoreload extension is already loaded. To reload it, use:\n",
      "  %reload_ext autoreload\n"
     ]
    }
   ],
   "source": [
    "%load_ext autoreload\n",
    "%autoreload 2\n",
    "import sys\n",
    "sys.path.append(\"../code\")\n",
    "import importlib, os, json\n",
    "import numpy as np\n",
    "import pandas as pd\n",
    "import shap\n",
    "\n",
    "import minirocket_multivariate_variable as mmv\n",
    "importlib.reload(mmv)\n",
    "from sklearn.pipeline import make_pipeline\n",
    "from sklearn.preprocessing import StandardScaler\n",
    "from sklearn.linear_model import LogisticRegression\n",
    "from sklearn.model_selection import train_test_split\n",
    "from collections import Counter\n",
    "from tqdm import tqdm\n",
    "from utils import get_cognitive_circles_data, get_cognitive_circles_data_for_classification, prepare_cognitive_circles_data_for_minirocket, medoid_per_class"
   ]
  },
  {
   "cell_type": "markdown",
   "id": "48eb423bd52d03e2",
   "metadata": {},
   "source": [
    "## Fetching data"
   ]
  },
  {
   "cell_type": "code",
   "execution_count": 98,
   "id": "6314ebe4d5bf2c97",
   "metadata": {
    "ExecuteTime": {
     "end_time": "2025-09-01T09:29:33.759840Z",
     "start_time": "2025-09-01T09:29:33.295012Z"
    }
   },
   "outputs": [
    {
     "data": {
      "text/html": [
       "<div>\n",
       "<style scoped>\n",
       "    .dataframe tbody tr th:only-of-type {\n",
       "        vertical-align: middle;\n",
       "    }\n",
       "\n",
       "    .dataframe tbody tr th {\n",
       "        vertical-align: top;\n",
       "    }\n",
       "\n",
       "    .dataframe thead th {\n",
       "        text-align: right;\n",
       "    }\n",
       "</style>\n",
       "<table border=\"1\" class=\"dataframe\">\n",
       "  <thead>\n",
       "    <tr style=\"text-align: right;\">\n",
       "      <th></th>\n",
       "      <th>X1</th>\n",
       "      <th>X2</th>\n",
       "      <th>X3</th>\n",
       "      <th>X4</th>\n",
       "      <th>X5</th>\n",
       "      <th>X6</th>\n",
       "      <th>X7</th>\n",
       "      <th>X8</th>\n",
       "      <th>X9</th>\n",
       "      <th>X10</th>\n",
       "      <th>...</th>\n",
       "      <th>DR7865</th>\n",
       "      <th>DR7866</th>\n",
       "      <th>DR7867</th>\n",
       "      <th>DR7868</th>\n",
       "      <th>DR7869</th>\n",
       "      <th>DR7870</th>\n",
       "      <th>DR7871</th>\n",
       "      <th>DR7872</th>\n",
       "      <th>DR7873</th>\n",
       "      <th>DR7874</th>\n",
       "    </tr>\n",
       "  </thead>\n",
       "  <tbody>\n",
       "    <tr>\n",
       "      <th>0</th>\n",
       "      <td>378.950623</td>\n",
       "      <td>390.868329</td>\n",
       "      <td>404.769576</td>\n",
       "      <td>422.604988</td>\n",
       "      <td>443.423940</td>\n",
       "      <td>467.209975</td>\n",
       "      <td>482.904738</td>\n",
       "      <td>498.319701</td>\n",
       "      <td>512.784040</td>\n",
       "      <td>527.204489</td>\n",
       "      <td>...</td>\n",
       "      <td>-117.633838</td>\n",
       "      <td>-123.265863</td>\n",
       "      <td>-131.875027</td>\n",
       "      <td>-140.484191</td>\n",
       "      <td>-148.399901</td>\n",
       "      <td>-154.133713</td>\n",
       "      <td>-159.867525</td>\n",
       "      <td>-165.502344</td>\n",
       "      <td>-166.982869</td>\n",
       "      <td>-168.463395</td>\n",
       "    </tr>\n",
       "    <tr>\n",
       "      <th>1</th>\n",
       "      <td>454.875312</td>\n",
       "      <td>465.725686</td>\n",
       "      <td>476.588529</td>\n",
       "      <td>488.401496</td>\n",
       "      <td>500.251870</td>\n",
       "      <td>511.177057</td>\n",
       "      <td>522.039900</td>\n",
       "      <td>532.902743</td>\n",
       "      <td>537.995012</td>\n",
       "      <td>542.438903</td>\n",
       "      <td>...</td>\n",
       "      <td>-390.684958</td>\n",
       "      <td>-371.215367</td>\n",
       "      <td>-341.454023</td>\n",
       "      <td>-293.714498</td>\n",
       "      <td>-235.224907</td>\n",
       "      <td>-163.523044</td>\n",
       "      <td>-7.187791</td>\n",
       "      <td>159.877049</td>\n",
       "      <td>216.619759</td>\n",
       "      <td>276.920364</td>\n",
       "    </tr>\n",
       "    <tr>\n",
       "      <th>2</th>\n",
       "      <td>462.274314</td>\n",
       "      <td>442.548628</td>\n",
       "      <td>423.781796</td>\n",
       "      <td>405.987531</td>\n",
       "      <td>390.097257</td>\n",
       "      <td>376.152120</td>\n",
       "      <td>363.248130</td>\n",
       "      <td>357.103491</td>\n",
       "      <td>351.678928</td>\n",
       "      <td>343.234414</td>\n",
       "      <td>...</td>\n",
       "      <td>27.476051</td>\n",
       "      <td>20.187588</td>\n",
       "      <td>12.899125</td>\n",
       "      <td>5.610662</td>\n",
       "      <td>-1.677801</td>\n",
       "      <td>-8.966264</td>\n",
       "      <td>-16.254727</td>\n",
       "      <td>-23.543190</td>\n",
       "      <td>-30.262986</td>\n",
       "      <td>-36.886924</td>\n",
       "    </tr>\n",
       "    <tr>\n",
       "      <th>3</th>\n",
       "      <td>621.979426</td>\n",
       "      <td>622.958853</td>\n",
       "      <td>623.000000</td>\n",
       "      <td>620.246883</td>\n",
       "      <td>613.720075</td>\n",
       "      <td>605.987531</td>\n",
       "      <td>597.296135</td>\n",
       "      <td>585.975062</td>\n",
       "      <td>573.407107</td>\n",
       "      <td>565.043017</td>\n",
       "      <td>...</td>\n",
       "      <td>10.431053</td>\n",
       "      <td>13.030254</td>\n",
       "      <td>15.629456</td>\n",
       "      <td>18.228658</td>\n",
       "      <td>20.827859</td>\n",
       "      <td>23.427061</td>\n",
       "      <td>26.026263</td>\n",
       "      <td>28.187702</td>\n",
       "      <td>25.183548</td>\n",
       "      <td>22.179395</td>\n",
       "    </tr>\n",
       "    <tr>\n",
       "      <th>4</th>\n",
       "      <td>612.955611</td>\n",
       "      <td>613.000000</td>\n",
       "      <td>613.000000</td>\n",
       "      <td>610.266334</td>\n",
       "      <td>605.554863</td>\n",
       "      <td>599.799002</td>\n",
       "      <td>593.087531</td>\n",
       "      <td>584.598005</td>\n",
       "      <td>576.598005</td>\n",
       "      <td>568.775561</td>\n",
       "      <td>...</td>\n",
       "      <td>43.396504</td>\n",
       "      <td>34.576607</td>\n",
       "      <td>25.756711</td>\n",
       "      <td>16.936815</td>\n",
       "      <td>8.116918</td>\n",
       "      <td>-0.702978</td>\n",
       "      <td>-9.522875</td>\n",
       "      <td>-18.342771</td>\n",
       "      <td>-27.162667</td>\n",
       "      <td>-35.982564</td>\n",
       "    </tr>\n",
       "  </tbody>\n",
       "</table>\n",
       "<p>5 rows × 55118 columns</p>\n",
       "</div>"
      ],
      "text/plain": [
       "           X1          X2          X3          X4          X5          X6  \\\n",
       "0  378.950623  390.868329  404.769576  422.604988  443.423940  467.209975   \n",
       "1  454.875312  465.725686  476.588529  488.401496  500.251870  511.177057   \n",
       "2  462.274314  442.548628  423.781796  405.987531  390.097257  376.152120   \n",
       "3  621.979426  622.958853  623.000000  620.246883  613.720075  605.987531   \n",
       "4  612.955611  613.000000  613.000000  610.266334  605.554863  599.799002   \n",
       "\n",
       "           X7          X8          X9         X10  ...      DR7865  \\\n",
       "0  482.904738  498.319701  512.784040  527.204489  ... -117.633838   \n",
       "1  522.039900  532.902743  537.995012  542.438903  ... -390.684958   \n",
       "2  363.248130  357.103491  351.678928  343.234414  ...   27.476051   \n",
       "3  597.296135  585.975062  573.407107  565.043017  ...   10.431053   \n",
       "4  593.087531  584.598005  576.598005  568.775561  ...   43.396504   \n",
       "\n",
       "       DR7866      DR7867      DR7868      DR7869      DR7870      DR7871  \\\n",
       "0 -123.265863 -131.875027 -140.484191 -148.399901 -154.133713 -159.867525   \n",
       "1 -371.215367 -341.454023 -293.714498 -235.224907 -163.523044   -7.187791   \n",
       "2   20.187588   12.899125    5.610662   -1.677801   -8.966264  -16.254727   \n",
       "3   13.030254   15.629456   18.228658   20.827859   23.427061   26.026263   \n",
       "4   34.576607   25.756711   16.936815    8.116918   -0.702978   -9.522875   \n",
       "\n",
       "       DR7872      DR7873      DR7874  \n",
       "0 -165.502344 -166.982869 -168.463395  \n",
       "1  159.877049  216.619759  276.920364  \n",
       "2  -23.543190  -30.262986  -36.886924  \n",
       "3   28.187702   25.183548   22.179395  \n",
       "4  -18.342771  -27.162667  -35.982564  \n",
       "\n",
       "[5 rows x 55118 columns]"
      ]
     },
     "execution_count": 98,
     "metadata": {},
     "output_type": "execute_result"
    }
   ],
   "source": [
    "df_train_class, y_train, df_test_class, y_test = get_cognitive_circles_data_for_classification('../data/cognitive-circles')\n",
    "df_train_class.head()"
   ]
  },
  {
   "cell_type": "code",
   "execution_count": 99,
   "id": "ced056a5f7e9f4b9",
   "metadata": {
    "ExecuteTime": {
     "end_time": "2025-09-01T09:29:38.189943Z",
     "start_time": "2025-09-01T09:29:38.174469Z"
    }
   },
   "outputs": [],
   "source": [
    "X_train, y_train = prepare_cognitive_circles_data_for_minirocket(df_train_class, y_train)\n",
    "X_test, y_test = prepare_cognitive_circles_data_for_minirocket(df_test_class, y_test)"
   ]
  },
  {
   "cell_type": "markdown",
   "id": "7b6d37a0a77377df",
   "metadata": {},
   "source": [
    "## Training MiniROCKET"
   ]
  },
  {
   "cell_type": "code",
   "execution_count": 100,
   "id": "31df010ef87018e0",
   "metadata": {
    "ExecuteTime": {
     "end_time": "2025-09-01T09:30:07.747536Z",
     "start_time": "2025-09-01T09:29:46.037411Z"
    }
   },
   "outputs": [
    {
     "name": "stdout",
     "output_type": "stream",
     "text": [
      "Phi_train: (240, 9996)\n"
     ]
    }
   ],
   "source": [
    "mmv.fit_minirocket_parameters(X_train)\n",
    "out_train = mmv.transform_prime(X_train)\n",
    "Phi_train = out_train[\"phi\"]\n",
    "print(\"Phi_train:\", Phi_train.shape)\n",
    "out_test = mmv.transform_prime(X_test)\n",
    "Phi_test = out_test[\"phi\"]"
   ]
  },
  {
   "cell_type": "markdown",
   "id": "f7715a12d9192957",
   "metadata": {},
   "source": [
    "## Training a classifier"
   ]
  },
  {
   "cell_type": "code",
   "execution_count": 101,
   "id": "8a0f791024d8c5e1",
   "metadata": {
    "ExecuteTime": {
     "end_time": "2025-09-01T09:30:38.383422Z",
     "start_time": "2025-09-01T09:30:37.304649Z"
    }
   },
   "outputs": [
    {
     "name": "stderr",
     "output_type": "stream",
     "text": [
      "/home/luis/Documents/git/xai-for-minirocket/venv/lib/python3.10/site-packages/sklearn/linear_model/_logistic.py:1272: FutureWarning: 'multi_class' was deprecated in version 1.5 and will be removed in 1.7. From then on, it will always use 'multinomial'. Leave it to its default value to avoid this warning.\n",
      "  warnings.warn(\n"
     ]
    },
    {
     "name": "stdout",
     "output_type": "stream",
     "text": [
      "Accuracy score: 0.7708333333333334\n"
     ]
    }
   ],
   "source": [
    "clf_phi = LogisticRegression(max_iter=2000, solver=\"lbfgs\", multi_class=\"auto\", n_jobs=-1).fit(Phi_train, y_train)\n",
    "from sklearn.metrics import accuracy_score\n",
    "print('Accuracy score:', accuracy_score(y_test, clf_phi.predict(Phi_test)))"
   ]
  },
  {
   "cell_type": "markdown",
   "id": "27cc4403c79a87a4",
   "metadata": {},
   "source": [
    "## Obtain explanations for classifier\n",
    "\n",
    "### Compute reference"
   ]
  },
  {
   "cell_type": "code",
   "execution_count": 102,
   "id": "96b0bfb4199df846",
   "metadata": {},
   "outputs": [],
   "source": [
    "def invert_class(y: pd.Series):\n",
    "    if len(pd.unique(y)) == 2:\n",
    "        return y.map(lambda x: 1 if x == 0 else 0)\n",
    "    else:\n",
    "        ## TODO: Support multi-class\n",
    "        return y\n",
    "\n",
    "def get_opposite_medoid_ids(df: pd.DataFrame, y: pd.Series, medoids_per_class: dict):\n",
    "    y_opposite = invert_class(y)\n",
    "    opposite_medoids = [medoids_per_class[i] for i in y_opposite.values]\n",
    "    return opposite_medoids\n",
    "\n",
    "def _ensure_TC(x):\n",
    "    x = np.asarray(x)\n",
    "    if x.ndim == 3:\n",
    "        assert x.shape[0] == 1\n",
    "        x = x[0]\n",
    "    if x.ndim == 2:\n",
    "        return x.T if x.shape[0] < x.shape[1] else x\n",
    "    raise ValueError(f\"Forma no soportada: {x.shape}\")\n",
    "\n",
    "def _flatten_tc(x_tc):\n",
    "    return _ensure_TC(x_tc).reshape(-1)\n",
    "    \n",
    "medoid_per_class = medoid_per_class(df_train_class, y_train)\n",
    "opposite_medoid_ids = get_opposite_medoid_ids(df_train_class, y_train, medoid_per_class)"
   ]
  },
  {
   "cell_type": "markdown",
   "id": "dd303ca9b89c0df8",
   "metadata": {},
   "source": [
    "Explain one instance"
   ]
  },
  {
   "cell_type": "code",
   "execution_count": 103,
   "id": "fd3d3973-66b0-4c56-9808-fba32a3fea25",
   "metadata": {
    "ExecuteTime": {
     "end_time": "2025-09-01T10:09:01.656616Z",
     "start_time": "2025-09-01T10:09:00.217378Z"
    }
   },
   "outputs": [],
   "source": [
    "IDX_TO_EXPLAIN = 0 "
   ]
  },
  {
   "cell_type": "code",
   "execution_count": 104,
   "id": "9646c5e7-d0c2-44d1-b949-407c2b9888a6",
   "metadata": {
    "ExecuteTime": {
     "end_time": "2025-09-01T10:09:01.656616Z",
     "start_time": "2025-09-01T10:09:00.217378Z"
    }
   },
   "outputs": [],
   "source": [
    "from utils import logistic_gradient, medoid_per_class\n",
    "y_train_pred = clf_phi.predict(Phi_train)"
   ]
  },
  {
   "cell_type": "code",
   "execution_count": 105,
   "id": "94e1eb321dd3b02e",
   "metadata": {
    "ExecuteTime": {
     "end_time": "2025-09-01T10:09:01.656616Z",
     "start_time": "2025-09-01T10:09:00.217378Z"
    }
   },
   "outputs": [],
   "source": [
    "alphas = logistic_gradient(clf_phi, Phi_train[IDX_TO_EXPLAIN])\n",
    "out_x  = mmv.transform_prime(X_train[IDX_TO_EXPLAIN])\n",
    "out_x0  = mmv.transform_prime(X_train[opposite_medoid_ids[IDX_TO_EXPLAIN]])"
   ]
  },
  {
   "cell_type": "code",
   "execution_count": 106,
   "id": "dba046f742ff45c4",
   "metadata": {},
   "outputs": [
    {
     "name": "stdout",
     "output_type": "stream",
     "text": [
      "[[-6.14688190e-07]\n",
      " [-3.14597598e-06]\n",
      " [-3.35342911e-06]\n",
      " ...\n",
      " [-1.57541274e-06]\n",
      " [-1.46583100e-06]\n",
      " [-1.34281746e-06]]\n"
     ]
    }
   ],
   "source": [
    "beta = mmv.propagate_luis(alphas, out_x[\"traces\"], X_train[IDX_TO_EXPLAIN], X_train[opposite_medoid_ids[IDX_TO_EXPLAIN]], mode=\"channel_energy\")\n",
    "print(beta)"
   ]
  },
  {
   "cell_type": "code",
   "execution_count": null,
   "id": "0f0aa7cd-153d-48bc-a679-bf3bd73036c0",
   "metadata": {},
   "outputs": [],
   "source": []
  }
 ],
 "metadata": {
  "kernelspec": {
   "display_name": "Python 3 (ipykernel)",
   "language": "python",
   "name": "python3"
  },
  "language_info": {
   "codemirror_mode": {
    "name": "ipython",
    "version": 3
   },
   "file_extension": ".py",
   "mimetype": "text/x-python",
   "name": "python",
   "nbconvert_exporter": "python",
   "pygments_lexer": "ipython3",
   "version": "3.10.12"
  }
 },
 "nbformat": 4,
 "nbformat_minor": 5
}
